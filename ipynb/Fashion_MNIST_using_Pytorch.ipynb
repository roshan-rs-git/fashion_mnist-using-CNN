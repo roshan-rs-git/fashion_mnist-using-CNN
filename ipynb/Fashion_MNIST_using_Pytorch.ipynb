{
  "nbformat": 4,
  "nbformat_minor": 0,
  "metadata": {
    "colab": {
      "provenance": []
    },
    "kernelspec": {
      "name": "python3",
      "display_name": "Python 3"
    },
    "language_info": {
      "name": "python"
    }
  },
  "cells": [
    {
      "cell_type": "code",
      "execution_count": 1,
      "metadata": {
        "id": "6GUyqClYgWEA"
      },
      "outputs": [],
      "source": [
        "import torch\n",
        "import torch.nn as nn\n",
        "import torch.optim as optim\n",
        "import torchvision\n",
        "import torchvision.transforms as transforms\n",
        "from torch.utils.data import DataLoader\n",
        "import matplotlib.pyplot as plt\n",
        "import numpy as np"
      ]
    },
    {
      "cell_type": "code",
      "source": [
        "torch.manual_seed(42)"
      ],
      "metadata": {
        "colab": {
          "base_uri": "https://localhost:8080/"
        },
        "id": "P-vqwi2KgX4v",
        "outputId": "552e073f-c51d-4f2d-95be-1cb86a2adf54"
      },
      "execution_count": 2,
      "outputs": [
        {
          "output_type": "execute_result",
          "data": {
            "text/plain": [
              "<torch._C.Generator at 0x7b395479ef30>"
            ]
          },
          "metadata": {},
          "execution_count": 2
        }
      ]
    },
    {
      "cell_type": "code",
      "source": [
        "transform = transforms.Compose([\n",
        "    transforms.ToTensor(),\n",
        "    transforms.Normalize((0.5,), (0.5,))\n",
        "])"
      ],
      "metadata": {
        "id": "xprwlCwHgZMe"
      },
      "execution_count": 3,
      "outputs": []
    },
    {
      "cell_type": "code",
      "source": [
        "train_dataset = torchvision.datasets.FashionMNIST(\n",
        "    root='./data',\n",
        "    train=True,\n",
        "    download=True,\n",
        "    transform=transform\n",
        ")"
      ],
      "metadata": {
        "colab": {
          "base_uri": "https://localhost:8080/"
        },
        "id": "erxBnQGdgaeY",
        "outputId": "89561ff4-99a1-4482-adf8-b7777e1980af"
      },
      "execution_count": 4,
      "outputs": [
        {
          "output_type": "stream",
          "name": "stdout",
          "text": [
            "Downloading http://fashion-mnist.s3-website.eu-central-1.amazonaws.com/train-images-idx3-ubyte.gz\n",
            "Downloading http://fashion-mnist.s3-website.eu-central-1.amazonaws.com/train-images-idx3-ubyte.gz to ./data/FashionMNIST/raw/train-images-idx3-ubyte.gz\n"
          ]
        },
        {
          "output_type": "stream",
          "name": "stderr",
          "text": [
            "100%|██████████| 26.4M/26.4M [00:01<00:00, 15.3MB/s]\n"
          ]
        },
        {
          "output_type": "stream",
          "name": "stdout",
          "text": [
            "Extracting ./data/FashionMNIST/raw/train-images-idx3-ubyte.gz to ./data/FashionMNIST/raw\n",
            "\n",
            "Downloading http://fashion-mnist.s3-website.eu-central-1.amazonaws.com/train-labels-idx1-ubyte.gz\n",
            "Downloading http://fashion-mnist.s3-website.eu-central-1.amazonaws.com/train-labels-idx1-ubyte.gz to ./data/FashionMNIST/raw/train-labels-idx1-ubyte.gz\n"
          ]
        },
        {
          "output_type": "stream",
          "name": "stderr",
          "text": [
            "100%|██████████| 29.5k/29.5k [00:00<00:00, 233kB/s]\n"
          ]
        },
        {
          "output_type": "stream",
          "name": "stdout",
          "text": [
            "Extracting ./data/FashionMNIST/raw/train-labels-idx1-ubyte.gz to ./data/FashionMNIST/raw\n",
            "\n",
            "Downloading http://fashion-mnist.s3-website.eu-central-1.amazonaws.com/t10k-images-idx3-ubyte.gz\n",
            "Downloading http://fashion-mnist.s3-website.eu-central-1.amazonaws.com/t10k-images-idx3-ubyte.gz to ./data/FashionMNIST/raw/t10k-images-idx3-ubyte.gz\n"
          ]
        },
        {
          "output_type": "stream",
          "name": "stderr",
          "text": [
            "100%|██████████| 4.42M/4.42M [00:01<00:00, 4.28MB/s]\n"
          ]
        },
        {
          "output_type": "stream",
          "name": "stdout",
          "text": [
            "Extracting ./data/FashionMNIST/raw/t10k-images-idx3-ubyte.gz to ./data/FashionMNIST/raw\n",
            "\n",
            "Downloading http://fashion-mnist.s3-website.eu-central-1.amazonaws.com/t10k-labels-idx1-ubyte.gz\n",
            "Downloading http://fashion-mnist.s3-website.eu-central-1.amazonaws.com/t10k-labels-idx1-ubyte.gz to ./data/FashionMNIST/raw/t10k-labels-idx1-ubyte.gz\n"
          ]
        },
        {
          "output_type": "stream",
          "name": "stderr",
          "text": [
            "100%|██████████| 5.15k/5.15k [00:00<00:00, 16.5MB/s]"
          ]
        },
        {
          "output_type": "stream",
          "name": "stdout",
          "text": [
            "Extracting ./data/FashionMNIST/raw/t10k-labels-idx1-ubyte.gz to ./data/FashionMNIST/raw\n",
            "\n"
          ]
        },
        {
          "output_type": "stream",
          "name": "stderr",
          "text": [
            "\n"
          ]
        }
      ]
    },
    {
      "cell_type": "code",
      "source": [
        "test_dataset = torchvision.datasets.FashionMNIST(\n",
        "    root='./data',\n",
        "    train=False,\n",
        "    download=True,\n",
        "    transform=transform\n",
        ")"
      ],
      "metadata": {
        "id": "jMA_yAiigcSE"
      },
      "execution_count": 5,
      "outputs": []
    },
    {
      "cell_type": "code",
      "source": [
        "batch_size = 64\n",
        "train_loader = DataLoader(train_dataset, batch_size=batch_size, shuffle=True)\n",
        "test_loader = DataLoader(test_dataset, batch_size=batch_size, shuffle=False)"
      ],
      "metadata": {
        "id": "zjoijPfAgd_3"
      },
      "execution_count": 6,
      "outputs": []
    },
    {
      "cell_type": "code",
      "source": [
        "classes = ['T-shirt/top', 'Trouser', 'Pullover', 'Dress', 'Coat',\n",
        "           'Sandal', 'Shirt', 'Sneaker', 'Bag', 'Ankle boot']"
      ],
      "metadata": {
        "id": "mvNbUpxegeg4"
      },
      "execution_count": 7,
      "outputs": []
    },
    {
      "cell_type": "code",
      "source": [
        "class FashionCNN(nn.Module):\n",
        "    def __init__(self):\n",
        "        super(FashionCNN, self).__init__()\n",
        "        self.conv1 = nn.Conv2d(1, 32, kernel_size=3, padding=1)\n",
        "        self.conv2 = nn.Conv2d(32, 64, kernel_size=3, padding=1)\n",
        "        self.pool = nn.MaxPool2d(2, 2)\n",
        "        self.fc1 = nn.Linear(64 * 7 * 7, 128)\n",
        "        self.fc2 = nn.Linear(128, 10)\n",
        "        self.dropout = nn.Dropout(0.25)\n",
        "        self.relu = nn.ReLU()\n",
        "\n",
        "    def forward(self, x):\n",
        "        x = self.pool(self.relu(self.conv1(x)))\n",
        "        x = self.pool(self.relu(self.conv2(x)))\n",
        "        x = x.view(-1, 64 * 7 * 7)\n",
        "        x = self.dropout(self.relu(self.fc1(x)))\n",
        "        x = self.fc2(x)\n",
        "        return x"
      ],
      "metadata": {
        "id": "JBO_9E80gemP"
      },
      "execution_count": 8,
      "outputs": []
    },
    {
      "cell_type": "code",
      "source": [
        "model = FashionCNN()\n",
        "criterion = nn.CrossEntropyLoss()\n",
        "optimizer = optim.Adam(model.parameters(), lr=0.001)"
      ],
      "metadata": {
        "id": "WwL2SRxagern"
      },
      "execution_count": 9,
      "outputs": []
    },
    {
      "cell_type": "code",
      "source": [
        "def train_model(model, train_loader, criterion, optimizer, num_epochs=10):\n",
        "    train_losses = []\n",
        "\n",
        "    for epoch in range(num_epochs):\n",
        "        running_loss = 0.0\n",
        "        for i, (images, labels) in enumerate(train_loader):\n",
        "            optimizer.zero_grad()\n",
        "            outputs = model(images)\n",
        "            loss = criterion(outputs, labels)\n",
        "            loss.backward()\n",
        "            optimizer.step()\n",
        "\n",
        "            running_loss += loss.item()\n",
        "\n",
        "            if (i + 1) % 100 == 0:\n",
        "                print(f'Epoch [{epoch + 1}/{num_epochs}], Step [{i + 1}/{len(train_loader)}], Loss: {loss.item():.4f}')\n",
        "\n",
        "        epoch_loss = running_loss / len(train_loader)\n",
        "        train_losses.append(epoch_loss)\n",
        "        print(f'Epoch [{epoch + 1}/{num_epochs}], Loss: {epoch_loss:.4f}')\n",
        "\n",
        "    return train_losses"
      ],
      "metadata": {
        "id": "2x2sUdmogews"
      },
      "execution_count": 10,
      "outputs": []
    },
    {
      "cell_type": "code",
      "source": [
        "def evaluate_model(model, test_loader):\n",
        "    model.eval()\n",
        "    correct = 0\n",
        "    total = 0\n",
        "\n",
        "    with torch.no_grad():\n",
        "        for images, labels in test_loader:\n",
        "            outputs = model(images)\n",
        "            _, predicted = torch.max(outputs.data, 1)\n",
        "            total += labels.size(0)\n",
        "            correct += (predicted == labels).sum().item()\n",
        "\n",
        "    accuracy = 100 * correct / total\n",
        "    print(f'Test Accuracy: {accuracy:.2f}%')\n",
        "    return accuracy\n"
      ],
      "metadata": {
        "id": "Uxrf1pWige1u"
      },
      "execution_count": 11,
      "outputs": []
    },
    {
      "cell_type": "code",
      "source": [
        "def show_sample_images(dataloader):\n",
        "    examples = iter(dataloader)\n",
        "    images, labels = next(examples)\n",
        "\n",
        "    plt.figure(figsize=(10, 10))\n",
        "    for i in range(9):\n",
        "        plt.subplot(3, 3, i + 1)\n",
        "        plt.imshow(images[i][0], cmap='gray')\n",
        "        plt.title(classes[labels[i]])\n",
        "        plt.axis('off')\n",
        "    plt.tight_layout()\n",
        "    plt.show()\n"
      ],
      "metadata": {
        "id": "eIALfscTge6y"
      },
      "execution_count": 12,
      "outputs": []
    },
    {
      "cell_type": "code",
      "source": [
        "if __name__ == \"__main__\":\n",
        "    # Show some sample images\n",
        "    print(\"Displaying sample images from the dataset:\")\n",
        "    show_sample_images(train_loader)\n",
        "\n",
        "    # Train the model\n",
        "    print(\"\\nStarting training...\")\n",
        "    train_losses = train_model(model, train_loader, criterion, optimizer)\n",
        "\n",
        "    # Plot training loss\n",
        "    plt.figure(figsize=(10, 5))\n",
        "    plt.plot(train_losses)\n",
        "    plt.title('Training Loss over Epochs')\n",
        "    plt.xlabel('Epoch')\n",
        "    plt.ylabel('Loss')\n",
        "    plt.show()\n",
        "\n",
        "    # Evaluate the model\n",
        "    print(\"\\nEvaluating model on test set:\")\n",
        "    test_accuracy = evaluate_model(model, test_loader)\n",
        "\n",
        "    # Save the model\n",
        "    torch.save(model.state_dict(), 'fashion_mnist_model.pth')\n",
        "    print(\"\\nModel saved to fashion_mnist_model.pth\")"
      ],
      "metadata": {
        "colab": {
          "base_uri": "https://localhost:8080/",
          "height": 1000
        },
        "id": "obdDxPB_gfDI",
        "outputId": "4e0b4b78-1a46-46ef-d2ac-bff1232d1437"
      },
      "execution_count": 13,
      "outputs": [
        {
          "output_type": "stream",
          "name": "stdout",
          "text": [
            "Displaying sample images from the dataset:\n"
          ]
        },
        {
          "output_type": "display_data",
          "data": {
            "text/plain": [
              "<Figure size 1000x1000 with 9 Axes>"
            ],
            "image/png": "[encoded data removed]"
          },
          "metadata": {}
        },
        {
          "output_type": "stream",
          "name": "stdout",
          "text": [
            "\n",
            "Starting training...\n",
            "Epoch [1/10], Step [100/938], Loss: 0.4996\n",
            "Epoch [1/10], Step [200/938], Loss: 0.5342\n",
            "Epoch [1/10], Step [300/938], Loss: 0.6547\n",
            "Epoch [1/10], Step [400/938], Loss: 0.4170\n",
            "Epoch [1/10], Step [500/938], Loss: 0.4234\n",
            "Epoch [1/10], Step [600/938], Loss: 0.2362\n",
            "Epoch [1/10], Step [700/938], Loss: 0.3056\n",
            "Epoch [1/10], Step [800/938], Loss: 0.5210\n",
            "Epoch [1/10], Step [900/938], Loss: 0.5555\n",
            "Epoch [1/10], Loss: 0.4952\n",
            "Epoch [2/10], Step [100/938], Loss: 0.3181\n",
            "Epoch [2/10], Step [200/938], Loss: 0.3784\n",
            "Epoch [2/10], Step [300/938], Loss: 0.4427\n",
            "Epoch [2/10], Step [400/938], Loss: 0.3378\n",
            "Epoch [2/10], Step [500/938], Loss: 0.2774\n",
            "Epoch [2/10], Step [600/938], Loss: 0.3052\n",
            "Epoch [2/10], Step [700/938], Loss: 0.2589\n",
            "Epoch [2/10], Step [800/938], Loss: 0.1345\n",
            "Epoch [2/10], Step [900/938], Loss: 0.2375\n",
            "Epoch [2/10], Loss: 0.3212\n",
            "Epoch [3/10], Step [100/938], Loss: 0.4841\n",
            "Epoch [3/10], Step [200/938], Loss: 0.2349\n",
            "Epoch [3/10], Step [300/938], Loss: 0.2435\n",
            "Epoch [3/10], Step [400/938], Loss: 0.2798\n",
            "Epoch [3/10], Step [500/938], Loss: 0.2912\n",
            "Epoch [3/10], Step [600/938], Loss: 0.2898\n",
            "Epoch [3/10], Step [700/938], Loss: 0.1433\n",
            "Epoch [3/10], Step [800/938], Loss: 0.1408\n",
            "Epoch [3/10], Step [900/938], Loss: 0.3687\n",
            "Epoch [3/10], Loss: 0.2726\n",
            "Epoch [4/10], Step [100/938], Loss: 0.3407\n",
            "Epoch [4/10], Step [200/938], Loss: 0.1818\n",
            "Epoch [4/10], Step [300/938], Loss: 0.2821\n",
            "Epoch [4/10], Step [400/938], Loss: 0.2731\n",
            "Epoch [4/10], Step [500/938], Loss: 0.1560\n",
            "Epoch [4/10], Step [600/938], Loss: 0.1796\n",
            "Epoch [4/10], Step [700/938], Loss: 0.1717\n",
            "Epoch [4/10], Step [800/938], Loss: 0.3979\n",
            "Epoch [4/10], Step [900/938], Loss: 0.2717\n",
            "Epoch [4/10], Loss: 0.2416\n",
            "Epoch [5/10], Step [100/938], Loss: 0.2362\n",
            "Epoch [5/10], Step [200/938], Loss: 0.2603\n",
            "Epoch [5/10], Step [300/938], Loss: 0.2607\n",
            "Epoch [5/10], Step [400/938], Loss: 0.0896\n",
            "Epoch [5/10], Step [500/938], Loss: 0.3998\n",
            "Epoch [5/10], Step [600/938], Loss: 0.2024\n",
            "Epoch [5/10], Step [700/938], Loss: 0.2402\n",
            "Epoch [5/10], Step [800/938], Loss: 0.2963\n",
            "Epoch [5/10], Step [900/938], Loss: 0.2507\n",
            "Epoch [5/10], Loss: 0.2186\n",
            "Epoch [6/10], Step [100/938], Loss: 0.1956\n",
            "Epoch [6/10], Step [200/938], Loss: 0.2186\n",
            "Epoch [6/10], Step [300/938], Loss: 0.2369\n",
            "Epoch [6/10], Step [400/938], Loss: 0.1837\n",
            "Epoch [6/10], Step [500/938], Loss: 0.3073\n",
            "Epoch [6/10], Step [600/938], Loss: 0.0607\n",
            "Epoch [6/10], Step [700/938], Loss: 0.2019\n",
            "Epoch [6/10], Step [800/938], Loss: 0.2125\n",
            "Epoch [6/10], Step [900/938], Loss: 0.3062\n",
            "Epoch [6/10], Loss: 0.1982\n",
            "Epoch [7/10], Step [100/938], Loss: 0.2743\n",
            "Epoch [7/10], Step [200/938], Loss: 0.1258\n",
            "Epoch [7/10], Step [300/938], Loss: 0.1860\n",
            "Epoch [7/10], Step [400/938], Loss: 0.2184\n",
            "Epoch [7/10], Step [500/938], Loss: 0.0761\n",
            "Epoch [7/10], Step [600/938], Loss: 0.1202\n",
            "Epoch [7/10], Step [700/938], Loss: 0.1247\n",
            "Epoch [7/10], Step [800/938], Loss: 0.1545\n",
            "Epoch [7/10], Step [900/938], Loss: 0.1557\n",
            "Epoch [7/10], Loss: 0.1793\n",
            "Epoch [8/10], Step [100/938], Loss: 0.2243\n",
            "Epoch [8/10], Step [200/938], Loss: 0.1650\n",
            "Epoch [8/10], Step [300/938], Loss: 0.2051\n",
            "Epoch [8/10], Step [400/938], Loss: 0.1861\n",
            "Epoch [8/10], Step [500/938], Loss: 0.0472\n",
            "Epoch [8/10], Step [600/938], Loss: 0.0670\n",
            "Epoch [8/10], Step [700/938], Loss: 0.0986\n",
            "Epoch [8/10], Step [800/938], Loss: 0.1295\n",
            "Epoch [8/10], Step [900/938], Loss: 0.2098\n",
            "Epoch [8/10], Loss: 0.1633\n",
            "Epoch [9/10], Step [100/938], Loss: 0.0798\n",
            "Epoch [9/10], Step [200/938], Loss: 0.1035\n",
            "Epoch [9/10], Step [300/938], Loss: 0.0734\n",
            "Epoch [9/10], Step [400/938], Loss: 0.0605\n",
            "Epoch [9/10], Step [500/938], Loss: 0.2661\n",
            "Epoch [9/10], Step [600/938], Loss: 0.1523\n",
            "Epoch [9/10], Step [700/938], Loss: 0.1898\n",
            "Epoch [9/10], Step [800/938], Loss: 0.1341\n",
            "Epoch [9/10], Step [900/938], Loss: 0.1200\n",
            "Epoch [9/10], Loss: 0.1464\n",
            "Epoch [10/10], Step [100/938], Loss: 0.1343\n",
            "Epoch [10/10], Step [200/938], Loss: 0.1529\n",
            "Epoch [10/10], Step [300/938], Loss: 0.0663\n",
            "Epoch [10/10], Step [400/938], Loss: 0.0859\n",
            "Epoch [10/10], Step [500/938], Loss: 0.1488\n",
            "Epoch [10/10], Step [600/938], Loss: 0.0528\n",
            "Epoch [10/10], Step [700/938], Loss: 0.0907\n",
            "Epoch [10/10], Step [800/938], Loss: 0.1087\n",
            "Epoch [10/10], Step [900/938], Loss: 0.0398\n",
            "Epoch [10/10], Loss: 0.1350\n"
          ]
        },
        {
          "output_type": "display_data",
          "data": {
            "text/plain": [
              "<Figure size 1000x500 with 1 Axes>"
            ],
            "image/png": "[encoded data removed]"
          },
          "metadata": {}
        },
        {
          "output_type": "stream",
          "name": "stdout",
          "text": [
            "\n",
            "Evaluating model on test set:\n",
            "Test Accuracy: 91.82%\n",
            "\n",
            "Model saved to fashion_mnist_model.pth\n"
          ]
        }
      ]
    },
    {
      "cell_type": "code",
      "source": [],
      "metadata": {
        "id": "J4WWxyFGgfKc"
      },
      "execution_count": null,
      "outputs": []
    }
  ]
}